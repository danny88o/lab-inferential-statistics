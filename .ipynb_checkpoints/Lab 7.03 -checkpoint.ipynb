{
 "cells": [
  {
   "cell_type": "code",
   "execution_count": 1,
   "metadata": {},
   "outputs": [
    {
     "name": "stdout",
     "output_type": "stream",
     "text": [
      "Statistic is:  4.761904761904759\n"
     ]
    }
   ],
   "source": [
    "import numpy as np\n",
    "from scipy import stats\n",
    "from numpy.random import normal\n",
    "\n",
    "import math\n",
    "\n",
    "sample_mean = 130.1\n",
    "pop_mean = 120\n",
    "sample_std = 21.21\n",
    "n = 100\n",
    "statistic = (sample_mean - pop_mean)/(sample_std/math.sqrt(n))\n",
    "print(\"Statistic is: \", statistic)"
   ]
  },
  {
   "cell_type": "code",
   "execution_count": 2,
   "metadata": {},
   "outputs": [
    {
     "name": "stdout",
     "output_type": "stream",
     "text": [
      "The t-statistic for the sample 0 is: 5.342968076708329\n",
      "The t-statistic for the sample 1 is: 5.97320990475039\n",
      "The t-statistic for the sample 2 is: 6.700387316786123\n",
      "The t-statistic for the sample 3 is: 3.2862083956450396\n",
      "The t-statistic for the sample 4 is: 3.5539782114180434\n",
      "The t-statistic for the sample 5 is: 6.3371759415618305\n",
      "The t-statistic for the sample 6 is: 4.979941191721869\n",
      "The t-statistic for the sample 7 is: 3.2957291508750393\n",
      "The t-statistic for the sample 8 is: 4.954367266534473\n",
      "The t-statistic for the sample 9 is: 4.853527918648129\n"
     ]
    }
   ],
   "source": [
    "samples = {}\n",
    "\n",
    "for i in range(10):\n",
    "    sample_name = \"sample_\" + str(i)\n",
    "    samples[sample_name] = normal(loc = 130.1, scale = 21.21, size = 100)\n",
    "    sample_mean = \"sample_\" + str(i) + \"_mean\"\n",
    "    samples[sample_mean] = np.mean(samples[sample_name])\n",
    "    sample_std = \"sample_\" + str(i) + \"_std\"\n",
    "    samples[sample_std] = np.std(samples[sample_name],ddof=1)\n",
    "    sample_statistic = \"sample_\" + str(i) + \"_t-statistic\"\n",
    "    samples[sample_statistic] = (samples[sample_mean]- pop_mean)/(samples[sample_std]/math.sqrt(n)) \n",
    "    print(\"The t-statistic for the sample {} is: {}\".format(i,samples[sample_statistic]))"
   ]
  },
  {
   "cell_type": "code",
   "execution_count": 3,
   "metadata": {},
   "outputs": [
    {
     "name": "stdout",
     "output_type": "stream",
     "text": [
      "Assuming a significance level of 0.05\n",
      "\n",
      "The p-value of sample 0 is: 2.56e-40\n",
      "Therefore we discard the null hypothesis Ho, as it's very unlikely to get sample 0 given Ho.\n",
      "\n",
      "The p-value of sample 1 is: 2.49e-39\n",
      "Therefore we discard the null hypothesis Ho, as it's very unlikely to get sample 1 given Ho.\n",
      "\n",
      "The p-value of sample 2 is: 7.66e-42\n",
      "Therefore we discard the null hypothesis Ho, as it's very unlikely to get sample 2 given Ho.\n",
      "\n",
      "The p-value of sample 3 is: 2.01e-36\n",
      "Therefore we discard the null hypothesis Ho, as it's very unlikely to get sample 3 given Ho.\n",
      "\n",
      "The p-value of sample 4 is: 4.35e-39\n",
      "Therefore we discard the null hypothesis Ho, as it's very unlikely to get sample 4 given Ho.\n",
      "\n",
      "The p-value of sample 5 is: 1.3e-43\n",
      "Therefore we discard the null hypothesis Ho, as it's very unlikely to get sample 5 given Ho.\n",
      "\n",
      "The p-value of sample 6 is: 1.68e-38\n",
      "Therefore we discard the null hypothesis Ho, as it's very unlikely to get sample 6 given Ho.\n",
      "\n",
      "The p-value of sample 7 is: 4.49e-33\n",
      "Therefore we discard the null hypothesis Ho, as it's very unlikely to get sample 7 given Ho.\n",
      "\n",
      "The p-value of sample 8 is: 1.11e-37\n",
      "Therefore we discard the null hypothesis Ho, as it's very unlikely to get sample 8 given Ho.\n",
      "\n",
      "The p-value of sample 9 is: 1.83e-37\n",
      "Therefore we discard the null hypothesis Ho, as it's very unlikely to get sample 9 given Ho.\n",
      "\n"
     ]
    }
   ],
   "source": [
    "print(\"Assuming a significance level of 0.05\")\n",
    "print()\n",
    "\n",
    "for i in range(10):\n",
    "    sample_name = \"sample_\" + str(i)\n",
    "    print(\"The p-value of sample {} is: {:-5.3}\".format(i,stats.ttest_1samp(samples[sample_name],85)[1]))\n",
    "    if ( stats.ttest_1samp(samples[sample_name],85)[1] < 0.05 ):\n",
    "        print(\"Therefore we discard the null hypothesis Ho, as it's very unlikely to get sample {} given Ho.\".format(i))\n",
    "    print()"
   ]
  }
 ],
 "metadata": {
  "kernelspec": {
   "display_name": "Python 3",
   "language": "python",
   "name": "python3"
  },
  "language_info": {
   "codemirror_mode": {
    "name": "ipython",
    "version": 3
   },
   "file_extension": ".py",
   "mimetype": "text/x-python",
   "name": "python",
   "nbconvert_exporter": "python",
   "pygments_lexer": "ipython3",
   "version": "3.8.5"
  }
 },
 "nbformat": 4,
 "nbformat_minor": 4
}
